{
 "cells": [
  {
   "cell_type": "code",
   "execution_count": 4,
   "metadata": {},
   "outputs": [],
   "source": [
    "from concrete_strength_prediction.config.core import (\n",
    "    config, \n",
    "    get_config_file_path, \n",
    "    get_config_from_file, \n",
    "    get_and_validate_config\n",
    ")"
   ]
  },
  {
   "cell_type": "code",
   "execution_count": 9,
   "metadata": {},
   "outputs": [
    {
     "data": {
      "text/plain": [
       "True"
      ]
     },
     "execution_count": 9,
     "metadata": {},
     "output_type": "execute_result"
    }
   ],
   "source": [
    "conf_path = get_config_file_path()\n",
    "conf_path.is_file()\n",
    "conf_path.exists()\n",
    "\n"
   ]
  },
  {
   "cell_type": "code",
   "execution_count": 13,
   "metadata": {},
   "outputs": [
    {
     "data": {
      "text/plain": [
       "dict"
      ]
     },
     "execution_count": 13,
     "metadata": {},
     "output_type": "execute_result"
    }
   ],
   "source": [
    "type(config_parsed.data)"
   ]
  },
  {
   "cell_type": "code",
   "execution_count": 15,
   "metadata": {},
   "outputs": [
    {
     "ename": "FileNotFoundError",
     "evalue": "[Errno 2] No such file or directory: 'temp.yml'",
     "output_type": "error",
     "traceback": [
      "\u001b[1;31m---------------------------------------------------------------------------\u001b[0m",
      "\u001b[1;31mFileNotFoundError\u001b[0m                         Traceback (most recent call last)",
      "Cell \u001b[1;32mIn [15], line 1\u001b[0m\n\u001b[1;32m----> 1\u001b[0m config_parsed \u001b[39m=\u001b[39m get_config_from_file(path_config\u001b[39m=\u001b[39;49m\u001b[39m'\u001b[39;49m\u001b[39mtemp.yml\u001b[39;49m\u001b[39m'\u001b[39;49m)\n",
      "File \u001b[1;32mc:\\Users\\jeand\\Projects\\concrete-strength-prediction\\concrete_strength_prediction\\config\\core.py:84\u001b[0m, in \u001b[0;36mget_config_from_file\u001b[1;34m(path_config)\u001b[0m\n\u001b[0;32m     81\u001b[0m     path_config \u001b[39m=\u001b[39m get_config_file_path()\n\u001b[0;32m     83\u001b[0m \u001b[39mif\u001b[39;00m path_config:\n\u001b[1;32m---> 84\u001b[0m     \u001b[39mwith\u001b[39;00m \u001b[39mopen\u001b[39;49m(path_config, \u001b[39m\"\u001b[39;49m\u001b[39mr\u001b[39;49m\u001b[39m\"\u001b[39;49m) \u001b[39mas\u001b[39;00m file:\n\u001b[0;32m     85\u001b[0m         config_parsed \u001b[39m=\u001b[39m load(file\u001b[39m.\u001b[39mread())\n\u001b[0;32m     87\u001b[0m         \u001b[39mreturn\u001b[39;00m config_parsed\n",
      "\u001b[1;31mFileNotFoundError\u001b[0m: [Errno 2] No such file or directory: 'temp.yml'"
     ]
    }
   ],
   "source": [
    "config_parsed = get_config_from_file(path_config='temp.yml')"
   ]
  },
  {
   "cell_type": "code",
   "execution_count": 24,
   "metadata": {},
   "outputs": [
    {
     "data": {
      "text/plain": [
       "'True'"
      ]
     },
     "execution_count": 24,
     "metadata": {},
     "output_type": "execute_result"
    }
   ],
   "source": [
    "config_parsed.data['bool_verbose'] "
   ]
  },
  {
   "cell_type": "code",
   "execution_count": 10,
   "metadata": {},
   "outputs": [
    {
     "ename": "TypeError",
     "evalue": "get_config_file_path() takes 0 positional arguments but 1 was given",
     "output_type": "error",
     "traceback": [
      "\u001b[1;31m---------------------------------------------------------------------------\u001b[0m",
      "\u001b[1;31mTypeError\u001b[0m                                 Traceback (most recent call last)",
      "Cell \u001b[1;32mIn [10], line 1\u001b[0m\n\u001b[1;32m----> 1\u001b[0m conf_path_invalid \u001b[39m=\u001b[39m get_config_file_path(\u001b[39m'\u001b[39;49m\u001b[39m./tmp.yml\u001b[39;49m\u001b[39m'\u001b[39;49m)\n",
      "\u001b[1;31mTypeError\u001b[0m: get_config_file_path() takes 0 positional arguments but 1 was given"
     ]
    }
   ],
   "source": [
    "conf_path_invalid = get_config_file_path('./tmp.yml')"
   ]
  },
  {
   "cell_type": "code",
   "execution_count": 6,
   "metadata": {},
   "outputs": [
    {
     "data": {
      "text/plain": [
       "YAML({'path_data': 'https://archive.ics.uci.edu/ml/machine-learning-databases/concrete/compressive/Concrete_Data.xls', 'cols_mapping': {'Cement (component 1)(kg in a m^3 mixture)': 'cement', 'Blast Furnace Slag (component 2)(kg in a m^3 mixture)': 'slag', 'Fly Ash (component 3)(kg in a m^3 mixture)': 'ash', 'Water  (component 4)(kg in a m^3 mixture)': 'water', 'Superplasticizer (component 5)(kg in a m^3 mixture)': 'superplasticizer', 'Coarse Aggregate  (component 6)(kg in a m^3 mixture)': 'coarse_aggregate', 'Fine Aggregate (component 7)(kg in a m^3 mixture)': 'fine_aggregate', 'Age (day)': 'age', 'Concrete compressive strength(MPa, megapascals) ': 'strength'}, 'cols_features': ['cement', 'slag', 'ash', 'water', 'superplasticizer', 'coarse_aggregate', 'fine_aggregate', 'age'], 'cols_composition': ['cement', 'slag', 'ash', 'water', 'superplasticizer', 'coarse_aggregate', 'fine_aggregate'], 'cols_solids': ['cement', 'slag', 'ash', 'superplasticizer', 'coarse_aggregate', 'fine_aggregate'], 'cols_ratio_aggregates_solids_num': ['coarse_aggregate', 'fine_aggregate'], 'cols_ratio_aggregates_solids_den': ['cement', 'slag', 'ash', 'superplasticizer'], 'cols_ratio_cement_water_num': ['cement'], 'cols_ratio_cement_water_den': ['water'], 'cols_target': 'strength', 'fe_drop_constant_params': {'tol': '1', 'missing_values': 'ignore'}, 'fe_smart_correlation_params': {'threshold': '0.90', 'method': 'pearson', 'selection_method': 'missing_values', 'missing_values': 'ignore'}, 'test_size': '0.2', 'stratify_by': 'age', 'search_iterations': '10', 'cv_scores': ['mse', 'rmse', 'mae', 'mape', 'max_error', 'r2'], 'cv_metric': 'mse', 'cv_folds': '10', 'mlflow_bool': 'False', 'mlflow_tracking_uri': 'http://localhost:5000', 'mlflow_experiment_name': 'concrete-mixtures', 'project_name': 'concrete-mixture-optimization', 'bool_verbose': 'True', 'seed': '1', 'n_jobs': '-1', 'n_features': '8'})"
      ]
     },
     "execution_count": 6,
     "metadata": {},
     "output_type": "execute_result"
    }
   ],
   "source": [
    "get_config_from_file()"
   ]
  },
  {
   "cell_type": "code",
   "execution_count": 25,
   "metadata": {},
   "outputs": [
    {
     "data": {
      "text/plain": [
       "True"
      ]
     },
     "execution_count": 25,
     "metadata": {},
     "output_type": "execute_result"
    }
   ],
   "source": [
    "config_validated = get_and_validate_config()\n",
    "config_validated.config_app.project_name \n",
    "config_validated.config_app.bool_verbose"
   ]
  },
  {
   "cell_type": "code",
   "execution_count": 28,
   "metadata": {},
   "outputs": [
    {
     "data": {
      "text/plain": [
       "True"
      ]
     },
     "execution_count": 28,
     "metadata": {},
     "output_type": "execute_result"
    }
   ],
   "source": [
    "from pydantic import BaseModel\n",
    "\n",
    "isinstance(config_validated, BaseModel)"
   ]
  },
  {
   "cell_type": "code",
   "execution_count": 38,
   "metadata": {},
   "outputs": [
    {
     "data": {
      "text/plain": [
       "dict"
      ]
     },
     "execution_count": 38,
     "metadata": {},
     "output_type": "execute_result"
    }
   ],
   "source": [
    "type(config_validated.dict())"
   ]
  },
  {
   "cell_type": "code",
   "execution_count": null,
   "metadata": {},
   "outputs": [
    {
     "ename": "",
     "evalue": "",
     "output_type": "error",
     "traceback": [
      "\u001b[1;31mnotebook controller is DISPOSED. \n",
      "\u001b[1;31mView Jupyter <a href='command:jupyter.viewOutput'>log</a> for further details."
     ]
    }
   ],
   "source": [
    "print(config.config_app.mlflow_bool)\n",
    "print(config.config_app.mlflow_experiment_name)\n",
    "print(config.config_model.cols_features)\n",
    "print(config.config_model.cv_folds)"
   ]
  }
 ],
 "metadata": {
  "kernelspec": {
   "display_name": "Python 3.9.12 ('.venv': venv)",
   "language": "python",
   "name": "python3"
  },
  "language_info": {
   "codemirror_mode": {
    "name": "ipython",
    "version": 3
   },
   "file_extension": ".py",
   "mimetype": "text/x-python",
   "name": "python",
   "nbconvert_exporter": "python",
   "pygments_lexer": "ipython3",
   "version": "3.9.12"
  },
  "orig_nbformat": 4,
  "vscode": {
   "interpreter": {
    "hash": "2281368b87631eb763821daaa5b9cbd88526f35d4ea3bd83f5531b25488d5060"
   }
  }
 },
 "nbformat": 4,
 "nbformat_minor": 2
}
